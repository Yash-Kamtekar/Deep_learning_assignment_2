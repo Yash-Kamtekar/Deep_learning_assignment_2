{
  "nbformat": 4,
  "nbformat_minor": 0,
  "metadata": {
    "colab": {
      "name": "tensor operations in pytorch.ipynb",
      "provenance": [],
      "authorship_tag": "ABX9TyP6FIziPKGEtLOhzAeUFePD",
      "include_colab_link": true
    },
    "kernelspec": {
      "name": "python3",
      "display_name": "Python 3"
    },
    "language_info": {
      "name": "python"
    }
  },
  "cells": [
    {
      "cell_type": "markdown",
      "metadata": {
        "id": "view-in-github",
        "colab_type": "text"
      },
      "source": [
        "<a href=\"https://colab.research.google.com/github/Yash-Kamtekar/Deep_learning_assignment_2/blob/main/tensor_operations_in_pytorch.ipynb\" target=\"_parent\"><img src=\"https://colab.research.google.com/assets/colab-badge.svg\" alt=\"Open In Colab\"/></a>"
      ]
    },
    {
      "cell_type": "markdown",
      "source": [
        "# **Basic Tensor Operations including einsum operations in Pytorch**"
      ],
      "metadata": {
        "id": "7B7FWgh97-lK"
      }
    },
    {
      "cell_type": "markdown",
      "source": [
        "Importing Pytorch"
      ],
      "metadata": {
        "id": "1z2OW6qj7-W1"
      }
    },
    {
      "cell_type": "code",
      "source": [
        "import torch\n",
        "import numpy as np"
      ],
      "metadata": {
        "id": "m4NqLvTq8G8L"
      },
      "execution_count": 26,
      "outputs": []
    },
    {
      "cell_type": "markdown",
      "source": [
        "## **Initializing a Tensor**\n",
        "\n",
        "Tensors can be initialized in various ways.\n",
        "\n",
        "**Directly from data**\n",
        "\n",
        "Tensors can be created directly from data. The data type is automatically inferred."
      ],
      "metadata": {
        "id": "B6dXqnWj7-Or"
      }
    },
    {
      "cell_type": "code",
      "execution_count": 27,
      "metadata": {
        "colab": {
          "base_uri": "https://localhost:8080/"
        },
        "id": "ZLdjDDWk5lqt",
        "outputId": "b1b95da3-0b84-4c46-c6f0-bbd11363a28c"
      },
      "outputs": [
        {
          "output_type": "execute_result",
          "data": {
            "text/plain": [
              "tensor([[1, 2],\n",
              "        [3, 4]])"
            ]
          },
          "metadata": {},
          "execution_count": 27
        }
      ],
      "source": [
        "data = [[1, 2],[3, 4]]\n",
        "x_data = torch.tensor(data)\n",
        "x_data"
      ]
    },
    {
      "cell_type": "markdown",
      "source": [
        "From a NumPy array\n",
        "Tensors can be created from NumPy arrays (and vice versa - see Bridge with NumPy)."
      ],
      "metadata": {
        "id": "g_fwWFbI8SUy"
      }
    },
    {
      "cell_type": "code",
      "source": [
        "np_array = np.array(data)\n",
        "x_np = torch.from_numpy(np_array)\n",
        "x_np"
      ],
      "metadata": {
        "colab": {
          "base_uri": "https://localhost:8080/"
        },
        "id": "bOu3wpjC8Vg2",
        "outputId": "bb44874d-02b0-4d22-f5d6-bc7257c1545f"
      },
      "execution_count": 28,
      "outputs": [
        {
          "output_type": "execute_result",
          "data": {
            "text/plain": [
              "tensor([[1, 2],\n",
              "        [3, 4]])"
            ]
          },
          "metadata": {},
          "execution_count": 28
        }
      ]
    },
    {
      "cell_type": "markdown",
      "source": [
        "From another tensor:\n",
        "\n",
        "The new tensor retains the properties (shape, datatype) of the argument tensor, unless explicitly overridden."
      ],
      "metadata": {
        "id": "Knh0-OGk8cMp"
      }
    },
    {
      "cell_type": "code",
      "source": [
        "print(f\"x_data Tensor: \\n {x_data} \\n\")\n",
        "\n",
        "x_ones = torch.ones_like(x_data) # retains the properties of x_data\n",
        "print(f\"Ones Tensor: \\n {x_ones} \\n\")\n",
        "\n",
        "x_rand = torch.rand_like(x_data, dtype=torch.float) # overrides the datatype of x_data\n",
        "print(f\"Random Tensor: \\n {x_rand} \\n\")"
      ],
      "metadata": {
        "colab": {
          "base_uri": "https://localhost:8080/"
        },
        "id": "7J2XTi988k7k",
        "outputId": "a730b6a5-14e7-4ddb-e2be-8094a96844a8"
      },
      "execution_count": 29,
      "outputs": [
        {
          "output_type": "stream",
          "name": "stdout",
          "text": [
            "x_data Tensor: \n",
            " tensor([[1, 2],\n",
            "        [3, 4]]) \n",
            "\n",
            "Ones Tensor: \n",
            " tensor([[1, 1],\n",
            "        [1, 1]]) \n",
            "\n",
            "Random Tensor: \n",
            " tensor([[0.6696, 0.5390],\n",
            "        [0.0249, 0.5651]]) \n",
            "\n"
          ]
        }
      ]
    },
    {
      "cell_type": "markdown",
      "source": [
        "With random or constant values:\n",
        "\n",
        "shape is a tuple of tensor dimensions. In the functions below, it determines the dimensionality of the output tensor."
      ],
      "metadata": {
        "id": "Lk68UzgG8pPC"
      }
    },
    {
      "cell_type": "code",
      "source": [
        "shape = (2,3,)\n",
        "rand_tensor = torch.rand(shape)\n",
        "ones_tensor = torch.ones(shape)\n",
        "zeros_tensor = torch.zeros(shape)\n",
        "\n",
        "print(f\"Random Tensor: \\n {rand_tensor} \\n\")\n",
        "print(f\"Ones Tensor: \\n {ones_tensor} \\n\")\n",
        "print(f\"Zeros Tensor: \\n {zeros_tensor}\")"
      ],
      "metadata": {
        "colab": {
          "base_uri": "https://localhost:8080/"
        },
        "id": "z63j0fT88sWl",
        "outputId": "31432707-bdc7-4370-eefc-0318c68c1796"
      },
      "execution_count": 30,
      "outputs": [
        {
          "output_type": "stream",
          "name": "stdout",
          "text": [
            "Random Tensor: \n",
            " tensor([[0.3646, 0.5500, 0.1503],\n",
            "        [0.5571, 0.9369, 0.5918]]) \n",
            "\n",
            "Ones Tensor: \n",
            " tensor([[1., 1., 1.],\n",
            "        [1., 1., 1.]]) \n",
            "\n",
            "Zeros Tensor: \n",
            " tensor([[0., 0., 0.],\n",
            "        [0., 0., 0.]])\n"
          ]
        }
      ]
    },
    {
      "cell_type": "markdown",
      "source": [
        "##**Attributes of a Tensor**\n",
        "\n",
        "Tensor attributes describe their shape, datatype, and the device on which they are stored."
      ],
      "metadata": {
        "id": "0boP17sH8xdK"
      }
    },
    {
      "cell_type": "code",
      "source": [
        "tensor = torch.rand(3,4)\n",
        "\n",
        "print(f\"Shape of tensor: {tensor.shape} \\n\")\n",
        "print(f\"Datatype of tensor: {tensor.dtype} \\n\")\n",
        "print(f\"Device tensor is stored on: {tensor.device} \\n\")"
      ],
      "metadata": {
        "colab": {
          "base_uri": "https://localhost:8080/"
        },
        "id": "MQWGgE-W826v",
        "outputId": "b0f33d82-9542-45f0-a2ea-7aba075b6b24"
      },
      "execution_count": 31,
      "outputs": [
        {
          "output_type": "stream",
          "name": "stdout",
          "text": [
            "Shape of tensor: torch.Size([3, 4]) \n",
            "\n",
            "Datatype of tensor: torch.float32 \n",
            "\n",
            "Device tensor is stored on: cpu \n",
            "\n"
          ]
        }
      ]
    },
    {
      "cell_type": "markdown",
      "source": [
        "##**Operations on Tensors:**\n",
        "\n",
        "Standard numpy-like indexing and slicing:"
      ],
      "metadata": {
        "id": "bamDZ3TU87dX"
      }
    },
    {
      "cell_type": "code",
      "source": [
        "tensor = torch.ones(4, 4)\n",
        "print(f\"First row: {tensor[0]} \\n\")\n",
        "print(f\"First column: {tensor[:, 0]} \\n\")\n",
        "print(f\"Last column: {tensor[..., -1]} \\n\")"
      ],
      "metadata": {
        "colab": {
          "base_uri": "https://localhost:8080/"
        },
        "id": "g0JH9teC8-Wj",
        "outputId": "ade89ce2-3485-4f94-9bbc-585217317266"
      },
      "execution_count": 32,
      "outputs": [
        {
          "output_type": "stream",
          "name": "stdout",
          "text": [
            "First row: tensor([1., 1., 1., 1.]) \n",
            "\n",
            "First column: tensor([1., 1., 1., 1.]) \n",
            "\n",
            "Last column: tensor([1., 1., 1., 1.]) \n",
            "\n"
          ]
        }
      ]
    },
    {
      "cell_type": "markdown",
      "source": [
        "##**Joining tensors**\n",
        "\n",
        "You can use torch.cat to concatenate a sequence of tensors along a given dimension."
      ],
      "metadata": {
        "id": "e4msSWPU9BST"
      }
    },
    {
      "cell_type": "code",
      "source": [
        "t1 = torch.cat([tensor, tensor, tensor], dim=1)\n",
        "t1"
      ],
      "metadata": {
        "colab": {
          "base_uri": "https://localhost:8080/"
        },
        "id": "x8lMcEe29Ey_",
        "outputId": "db542201-fc35-40ed-fafc-e3071a55aba5"
      },
      "execution_count": 33,
      "outputs": [
        {
          "output_type": "execute_result",
          "data": {
            "text/plain": [
              "tensor([[1., 1., 1., 1., 1., 1., 1., 1., 1., 1., 1., 1.],\n",
              "        [1., 1., 1., 1., 1., 1., 1., 1., 1., 1., 1., 1.],\n",
              "        [1., 1., 1., 1., 1., 1., 1., 1., 1., 1., 1., 1.],\n",
              "        [1., 1., 1., 1., 1., 1., 1., 1., 1., 1., 1., 1.]])"
            ]
          },
          "metadata": {},
          "execution_count": 33
        }
      ]
    },
    {
      "cell_type": "markdown",
      "source": [
        "Arithmetic operations\n",
        "Matrix Multiplication:"
      ],
      "metadata": {
        "id": "ruQJjgTb9HpE"
      }
    },
    {
      "cell_type": "code",
      "source": [
        "# This computes the matrix multiplication between two tensors. y1, y2, y3 will have the same value\n",
        "tensor = torch.tensor([[1.0, 2.0],[3.0, 4.0]])\n",
        "y1 = tensor @ tensor.T\n",
        "print(f\"y1: {y1} \\n\")\n",
        "\n",
        "y2 = tensor.matmul(tensor.T)\n",
        "print(f\"y2: {y2} \\n\")\n",
        "\n",
        "y3 = torch.rand_like(tensor)\n",
        "torch.matmul(tensor, tensor.T, out=y3)"
      ],
      "metadata": {
        "colab": {
          "base_uri": "https://localhost:8080/"
        },
        "id": "MYa4oBMt9J4A",
        "outputId": "fa95b3da-bfc5-4963-9421-ecd4c2b5b1b7"
      },
      "execution_count": 34,
      "outputs": [
        {
          "output_type": "stream",
          "name": "stdout",
          "text": [
            "y1: tensor([[ 5., 11.],\n",
            "        [11., 25.]]) \n",
            "\n",
            "y2: tensor([[ 5., 11.],\n",
            "        [11., 25.]]) \n",
            "\n"
          ]
        },
        {
          "output_type": "execute_result",
          "data": {
            "text/plain": [
              "tensor([[ 5., 11.],\n",
              "        [11., 25.]])"
            ]
          },
          "metadata": {},
          "execution_count": 34
        }
      ]
    },
    {
      "cell_type": "markdown",
      "source": [
        "Element-wise product:"
      ],
      "metadata": {
        "id": "Zpz1OeUo9Pbs"
      }
    },
    {
      "cell_type": "code",
      "source": [
        "# This computes the element-wise product. z1, z2, z3 will have the same value\n",
        "print(f\"tensor: {tensor} \\n\")\n",
        "z1 = tensor * tensor\n",
        "print(f\"z1: {z1} \\n\")\n",
        "z2 = tensor.mul(tensor)\n",
        "print(f\"z2: {z2} \\n\")\n",
        "z3 = torch.rand_like(tensor)\n",
        "torch.mul(tensor, tensor, out=z3)"
      ],
      "metadata": {
        "colab": {
          "base_uri": "https://localhost:8080/"
        },
        "id": "-zfpIRZv9Qna",
        "outputId": "b552af28-1a27-444f-f71a-93374bb46b87"
      },
      "execution_count": 35,
      "outputs": [
        {
          "output_type": "stream",
          "name": "stdout",
          "text": [
            "tensor: tensor([[1., 2.],\n",
            "        [3., 4.]]) \n",
            "\n",
            "z1: tensor([[ 1.,  4.],\n",
            "        [ 9., 16.]]) \n",
            "\n",
            "z2: tensor([[ 1.,  4.],\n",
            "        [ 9., 16.]]) \n",
            "\n"
          ]
        },
        {
          "output_type": "execute_result",
          "data": {
            "text/plain": [
              "tensor([[ 1.,  4.],\n",
              "        [ 9., 16.]])"
            ]
          },
          "metadata": {},
          "execution_count": 35
        }
      ]
    },
    {
      "cell_type": "markdown",
      "source": [
        "Single-element tensors:\n",
        "\n",
        "If you have a one-element tensor, for example by aggregating all values of a tensor into one value, you can convert it to a Python numerical value using item():"
      ],
      "metadata": {
        "id": "b-0L3rxW9V58"
      }
    },
    {
      "cell_type": "code",
      "source": [
        "agg = tensor.sum()\n",
        "print(agg, type(agg))\n",
        "agg_item = agg.item()\n",
        "print(agg_item, type(agg_item))"
      ],
      "metadata": {
        "colab": {
          "base_uri": "https://localhost:8080/"
        },
        "id": "CadHiKd69YNj",
        "outputId": "d6e2f8f2-5b63-4a94-cd4e-15772692e92f"
      },
      "execution_count": 36,
      "outputs": [
        {
          "output_type": "stream",
          "name": "stdout",
          "text": [
            "tensor(10.) <class 'torch.Tensor'>\n",
            "10.0 <class 'float'>\n"
          ]
        }
      ]
    },
    {
      "cell_type": "markdown",
      "source": [
        "In-place operations:\n",
        "\n",
        "Operations that store the result into the operand are called in-place. They are denoted by a suffix. For example: x.copy(y), x.t_(), will change x."
      ],
      "metadata": {
        "id": "jIwurCmI9dh5"
      }
    },
    {
      "cell_type": "code",
      "source": [
        "print(f\"{tensor} \\n\")\n",
        "tensor.add_(5)\n",
        "tensor"
      ],
      "metadata": {
        "colab": {
          "base_uri": "https://localhost:8080/"
        },
        "id": "Gu9AaC0c9f_5",
        "outputId": "7a52cad8-226b-41fe-8413-dd8c96fabded"
      },
      "execution_count": 37,
      "outputs": [
        {
          "output_type": "stream",
          "name": "stdout",
          "text": [
            "tensor([[1., 2.],\n",
            "        [3., 4.]]) \n",
            "\n"
          ]
        },
        {
          "output_type": "execute_result",
          "data": {
            "text/plain": [
              "tensor([[6., 7.],\n",
              "        [8., 9.]])"
            ]
          },
          "metadata": {},
          "execution_count": 37
        }
      ]
    },
    {
      "cell_type": "markdown",
      "source": [
        "## **Einsum Operations**"
      ],
      "metadata": {
        "id": "shGwL0XG9jLd"
      }
    },
    {
      "cell_type": "markdown",
      "source": [
        "MATRIX TRANSPOSE"
      ],
      "metadata": {
        "id": "HF_Vu2Q89nJE"
      }
    },
    {
      "cell_type": "code",
      "source": [
        "a = torch.arange(6).reshape(2, 3) # Bji=Aij\n",
        "print(f\"a: {a} \\n\")"
      ],
      "metadata": {
        "colab": {
          "base_uri": "https://localhost:8080/"
        },
        "id": "mmvNdthA9mRi",
        "outputId": "171a4045-c726-4cd9-946e-0cb94fd76d2b"
      },
      "execution_count": 38,
      "outputs": [
        {
          "output_type": "stream",
          "name": "stdout",
          "text": [
            "a: tensor([[0, 1, 2],\n",
            "        [3, 4, 5]]) \n",
            "\n"
          ]
        }
      ]
    },
    {
      "cell_type": "markdown",
      "source": [
        "**SUM**"
      ],
      "metadata": {
        "id": "8LBd9Tlc9rwX"
      }
    },
    {
      "cell_type": "code",
      "source": [
        "a = torch.arange(6).reshape(2, 3) # b= ∑i ∑j Aij = Aij\n",
        "print(f\"a: {a} \\n\")\n",
        "torch.einsum('ij->', [a])"
      ],
      "metadata": {
        "colab": {
          "base_uri": "https://localhost:8080/"
        },
        "id": "hvs-xwAd9ulS",
        "outputId": "789ef4ac-9eb3-4800-e20e-bf478a86bae2"
      },
      "execution_count": 39,
      "outputs": [
        {
          "output_type": "stream",
          "name": "stdout",
          "text": [
            "a: tensor([[0, 1, 2],\n",
            "        [3, 4, 5]]) \n",
            "\n"
          ]
        },
        {
          "output_type": "execute_result",
          "data": {
            "text/plain": [
              "tensor(15)"
            ]
          },
          "metadata": {},
          "execution_count": 39
        }
      ]
    },
    {
      "cell_type": "markdown",
      "source": [
        "COLUMN SUM"
      ],
      "metadata": {
        "id": "ygHHOHZl9xvp"
      }
    },
    {
      "cell_type": "code",
      "source": [
        "a = torch.arange(6).reshape(2, 3) # bj = ∑i Aij = Aij\n",
        "print(f\"a: {a} \\n\")\n",
        "torch.einsum('ij->j', [a])"
      ],
      "metadata": {
        "colab": {
          "base_uri": "https://localhost:8080/"
        },
        "id": "j7QRjf6r90Bb",
        "outputId": "e9ee2ad3-a2b8-45de-84a9-e66fca82dae1"
      },
      "execution_count": 40,
      "outputs": [
        {
          "output_type": "stream",
          "name": "stdout",
          "text": [
            "a: tensor([[0, 1, 2],\n",
            "        [3, 4, 5]]) \n",
            "\n"
          ]
        },
        {
          "output_type": "execute_result",
          "data": {
            "text/plain": [
              "tensor([3, 5, 7])"
            ]
          },
          "metadata": {},
          "execution_count": 40
        }
      ]
    },
    {
      "cell_type": "markdown",
      "source": [
        "ROW SUM"
      ],
      "metadata": {
        "id": "KoGE7gD592dj"
      }
    },
    {
      "cell_type": "code",
      "source": [
        "a = torch.arange(6).reshape(2, 3) # bi = ∑j Aij = Aij\n",
        "print(f\"a: {a} \\n\")\n",
        "torch.einsum('ij->i', [a])"
      ],
      "metadata": {
        "colab": {
          "base_uri": "https://localhost:8080/"
        },
        "id": "VyvYs9nD95DG",
        "outputId": "f7fe9691-1972-4feb-8147-fcc772ed9e86"
      },
      "execution_count": 41,
      "outputs": [
        {
          "output_type": "stream",
          "name": "stdout",
          "text": [
            "a: tensor([[0, 1, 2],\n",
            "        [3, 4, 5]]) \n",
            "\n"
          ]
        },
        {
          "output_type": "execute_result",
          "data": {
            "text/plain": [
              "tensor([ 3, 12])"
            ]
          },
          "metadata": {},
          "execution_count": 41
        }
      ]
    },
    {
      "cell_type": "markdown",
      "source": [
        "MATRIX-VECTOR MULTIPLICATION"
      ],
      "metadata": {
        "id": "P2FK_yO498jY"
      }
    },
    {
      "cell_type": "code",
      "source": [
        "a = torch.arange(6).reshape(2, 3) # ci = ∑k Aik bk = Aikbk\n",
        "print(f\"a: {a} \\n\")\n",
        "b = torch.arange(3)\n",
        "print(f\"b: {b} \\n\")"
      ],
      "metadata": {
        "colab": {
          "base_uri": "https://localhost:8080/"
        },
        "id": "rR1yoVNp99oM",
        "outputId": "f63aafc8-f4f3-4fd0-f787-a62cd2d11878"
      },
      "execution_count": 42,
      "outputs": [
        {
          "output_type": "stream",
          "name": "stdout",
          "text": [
            "a: tensor([[0, 1, 2],\n",
            "        [3, 4, 5]]) \n",
            "\n",
            "b: tensor([0, 1, 2]) \n",
            "\n"
          ]
        }
      ]
    },
    {
      "cell_type": "markdown",
      "source": [
        "MATRIX-MATRIX MULTIPLICATION"
      ],
      "metadata": {
        "id": "CsMfKV1N-Eq5"
      }
    },
    {
      "cell_type": "code",
      "source": [
        "a = torch.arange(6).reshape(2, 3) # Cij = ∑k Aik Bkj = Aik Bkj\n",
        "print(f\"a: {a} \\n\")\n",
        "b = torch.arange(15).reshape(3, 5)\n",
        "print(f\"b: {b} \\n\")\n",
        "torch.einsum('ik,kj->ij', [a, b])"
      ],
      "metadata": {
        "colab": {
          "base_uri": "https://localhost:8080/"
        },
        "id": "uxafSM-3HIpq",
        "outputId": "4187d491-22fd-400e-edcb-a291f11f9470"
      },
      "execution_count": 43,
      "outputs": [
        {
          "output_type": "stream",
          "name": "stdout",
          "text": [
            "a: tensor([[0, 1, 2],\n",
            "        [3, 4, 5]]) \n",
            "\n",
            "b: tensor([[ 0,  1,  2,  3,  4],\n",
            "        [ 5,  6,  7,  8,  9],\n",
            "        [10, 11, 12, 13, 14]]) \n",
            "\n"
          ]
        },
        {
          "output_type": "execute_result",
          "data": {
            "text/plain": [
              "tensor([[ 25,  28,  31,  34,  37],\n",
              "        [ 70,  82,  94, 106, 118]])"
            ]
          },
          "metadata": {},
          "execution_count": 43
        }
      ]
    },
    {
      "cell_type": "markdown",
      "source": [
        "DOT PRODUCT"
      ],
      "metadata": {
        "id": "lvMnHe9AHO00"
      }
    },
    {
      "cell_type": "code",
      "source": [
        "a = torch.arange(3)\n",
        "print(f\"a: {a} \\n\")\n",
        "b = torch.arange(3,6)  # -- a vector of length 3 containing [3, 4, 5]\n",
        "print(f\"b: {b} \\n\")\n",
        "torch.einsum('i,i->', [a, b])  # c = ∑i ai bi = aibi"
      ],
      "metadata": {
        "colab": {
          "base_uri": "https://localhost:8080/"
        },
        "id": "n0MimzIcHPyR",
        "outputId": "35e819c4-37d5-41ae-961a-e7e28c4bc292"
      },
      "execution_count": 44,
      "outputs": [
        {
          "output_type": "stream",
          "name": "stdout",
          "text": [
            "a: tensor([0, 1, 2]) \n",
            "\n",
            "b: tensor([3, 4, 5]) \n",
            "\n"
          ]
        },
        {
          "output_type": "execute_result",
          "data": {
            "text/plain": [
              "tensor(14)"
            ]
          },
          "metadata": {},
          "execution_count": 44
        }
      ]
    },
    {
      "cell_type": "markdown",
      "source": [
        "Matrix:"
      ],
      "metadata": {
        "id": "h7usJ1b6HTcE"
      }
    },
    {
      "cell_type": "code",
      "source": [
        "a = torch.arange(6).reshape(2, 3)\n",
        "print(f\"a: {a} \\n\")\n",
        "b = torch.arange(6,12).reshape(2, 3)\n",
        "print(f\"b: {b} \\n\")\n",
        "torch.einsum('ij,ij->', [a, b])  #  c=∑i∑j Aij Bij = Aij Bij"
      ],
      "metadata": {
        "colab": {
          "base_uri": "https://localhost:8080/"
        },
        "id": "-c1nnwCcHWwZ",
        "outputId": "0e2f3714-f41f-462a-f2e8-180e688fdf86"
      },
      "execution_count": 45,
      "outputs": [
        {
          "output_type": "stream",
          "name": "stdout",
          "text": [
            "a: tensor([[0, 1, 2],\n",
            "        [3, 4, 5]]) \n",
            "\n",
            "b: tensor([[ 6,  7,  8],\n",
            "        [ 9, 10, 11]]) \n",
            "\n"
          ]
        },
        {
          "output_type": "execute_result",
          "data": {
            "text/plain": [
              "tensor(145)"
            ]
          },
          "metadata": {},
          "execution_count": 45
        }
      ]
    },
    {
      "cell_type": "markdown",
      "source": [
        "HADAMARD PRODUCT"
      ],
      "metadata": {
        "id": "UaAxhV_lHadX"
      }
    },
    {
      "cell_type": "code",
      "source": [
        "a = torch.arange(6).reshape(2, 3)\n",
        "print(f\"a: {a} \\n\")\n",
        "b = torch.arange(6,12).reshape(2, 3)\n",
        "print(f\"b: {b} \\n\")\n",
        "torch.einsum('ij,ij->ij', [a, b]) # Cij = AijBij"
      ],
      "metadata": {
        "colab": {
          "base_uri": "https://localhost:8080/"
        },
        "id": "Uz8LtKGgHcxx",
        "outputId": "113a2d22-ac41-49a5-a3ee-50ddd6ee2704"
      },
      "execution_count": 46,
      "outputs": [
        {
          "output_type": "stream",
          "name": "stdout",
          "text": [
            "a: tensor([[0, 1, 2],\n",
            "        [3, 4, 5]]) \n",
            "\n",
            "b: tensor([[ 6,  7,  8],\n",
            "        [ 9, 10, 11]]) \n",
            "\n"
          ]
        },
        {
          "output_type": "execute_result",
          "data": {
            "text/plain": [
              "tensor([[ 0,  7, 16],\n",
              "        [27, 40, 55]])"
            ]
          },
          "metadata": {},
          "execution_count": 46
        }
      ]
    },
    {
      "cell_type": "markdown",
      "source": [
        "OUTER PRODUCT"
      ],
      "metadata": {
        "id": "CmzJW5CeHfXc"
      }
    },
    {
      "cell_type": "code",
      "source": [
        "a = torch.arange(3)\n",
        "print(f\"a: {a} \\n\")\n",
        "b = torch.arange(3,7)  # -- a vector of length 4 containing [3, 4, 5, 6]\n",
        "print(f\"b: {b} \\n\")\n",
        "torch.einsum('i,j->ij', [a, b])  # Cij = aibj"
      ],
      "metadata": {
        "colab": {
          "base_uri": "https://localhost:8080/"
        },
        "id": "n4L2SrMHHgy-",
        "outputId": "ea8ca816-f995-422d-bb45-9b897b7fb78d"
      },
      "execution_count": 47,
      "outputs": [
        {
          "output_type": "stream",
          "name": "stdout",
          "text": [
            "a: tensor([0, 1, 2]) \n",
            "\n",
            "b: tensor([3, 4, 5, 6]) \n",
            "\n"
          ]
        },
        {
          "output_type": "execute_result",
          "data": {
            "text/plain": [
              "tensor([[ 0,  0,  0,  0],\n",
              "        [ 3,  4,  5,  6],\n",
              "        [ 6,  8, 10, 12]])"
            ]
          },
          "metadata": {},
          "execution_count": 47
        }
      ]
    },
    {
      "cell_type": "markdown",
      "source": [
        "BATCH MATRIX MULTIPLICATION"
      ],
      "metadata": {
        "id": "QUSH2rFGHj_5"
      }
    },
    {
      "cell_type": "code",
      "source": [
        "a = torch.arange(30).reshape(3,2,5)\n",
        "print(f\"a: {a} \\n\")\n",
        "b = torch.arange(45).reshape(3,5,3)\n",
        "print(f\"b: {b} \\n\")\n",
        "torch.einsum('ijk,ikl->ijl', [a, b])  # Cijl = ∑k Aijk Bikl = Aijk Bikl"
      ],
      "metadata": {
        "colab": {
          "base_uri": "https://localhost:8080/"
        },
        "id": "UGwGBOsjHlcu",
        "outputId": "993c8383-457d-4d27-d0d2-8a3b73c03e82"
      },
      "execution_count": 48,
      "outputs": [
        {
          "output_type": "stream",
          "name": "stdout",
          "text": [
            "a: tensor([[[ 0,  1,  2,  3,  4],\n",
            "         [ 5,  6,  7,  8,  9]],\n",
            "\n",
            "        [[10, 11, 12, 13, 14],\n",
            "         [15, 16, 17, 18, 19]],\n",
            "\n",
            "        [[20, 21, 22, 23, 24],\n",
            "         [25, 26, 27, 28, 29]]]) \n",
            "\n",
            "b: tensor([[[ 0,  1,  2],\n",
            "         [ 3,  4,  5],\n",
            "         [ 6,  7,  8],\n",
            "         [ 9, 10, 11],\n",
            "         [12, 13, 14]],\n",
            "\n",
            "        [[15, 16, 17],\n",
            "         [18, 19, 20],\n",
            "         [21, 22, 23],\n",
            "         [24, 25, 26],\n",
            "         [27, 28, 29]],\n",
            "\n",
            "        [[30, 31, 32],\n",
            "         [33, 34, 35],\n",
            "         [36, 37, 38],\n",
            "         [39, 40, 41],\n",
            "         [42, 43, 44]]]) \n",
            "\n"
          ]
        },
        {
          "output_type": "execute_result",
          "data": {
            "text/plain": [
              "tensor([[[  90,  100,  110],\n",
              "         [ 240,  275,  310]],\n",
              "\n",
              "        [[1290, 1350, 1410],\n",
              "         [1815, 1900, 1985]],\n",
              "\n",
              "        [[3990, 4100, 4210],\n",
              "         [4890, 5025, 5160]]])"
            ]
          },
          "metadata": {},
          "execution_count": 48
        }
      ]
    },
    {
      "cell_type": "markdown",
      "source": [
        "##**TENSOR CONTRACTION**\n",
        "Batch matrix multiplication is a special case of a tensor contraction. Let's say we have two tensors, an order-n tensor A∈RI1×⋯×In and an order-m tensor B∈RJ1×⋯×Im. As an example, take n=4, m=5 and assume that I2=J3 and I3=J5. We can multiply the two tensors in these two dimensions (2 and 3 for A and 3 and 5 for B) resulting in a new tensor C∈RI1×I4×J1×J2×J4 as follows\n",
        "\n",
        "Cpstuv=∑q∑rApqrsBtuqvr=ApqrsBtuqvr"
      ],
      "metadata": {
        "id": "-f1gIndUHtH7"
      }
    },
    {
      "cell_type": "code",
      "source": [
        "a = torch.randn(2,3,5,7)\n",
        "b = torch.randn(11,13,3,17,5)\n",
        "torch.einsum('pqrs,tuqvr->pstuv', [a, b]).shape"
      ],
      "metadata": {
        "colab": {
          "base_uri": "https://localhost:8080/"
        },
        "id": "V6U9UGu3HzEN",
        "outputId": "5c80dea8-6fc9-4968-ba83-515bf5ca78c1"
      },
      "execution_count": 49,
      "outputs": [
        {
          "output_type": "execute_result",
          "data": {
            "text/plain": [
              "torch.Size([2, 7, 11, 13, 17])"
            ]
          },
          "metadata": {},
          "execution_count": 49
        }
      ]
    },
    {
      "cell_type": "markdown",
      "source": [
        "BILINEAR TRANSFORMATION\n",
        "As mentioned earlier, einsum can operate on more than two tensors. One example where this is used is bilinear transformation.\n",
        "\n",
        "Dij=∑k∑lAikBjklCil=AikBjklCil"
      ],
      "metadata": {
        "id": "AtLzYAbtH16E"
      }
    },
    {
      "cell_type": "code",
      "source": [
        "a = torch.randn(2,3)\n",
        "b = torch.randn(5,3,7)\n",
        "c = torch.randn(2,7)\n",
        "torch.einsum('ik,jkl,il->ij', [a, b, c])"
      ],
      "metadata": {
        "colab": {
          "base_uri": "https://localhost:8080/"
        },
        "id": "77t2nGHZH4CN",
        "outputId": "ed8d9e01-bf08-441b-9914-aefe5fc8296c"
      },
      "execution_count": 50,
      "outputs": [
        {
          "output_type": "execute_result",
          "data": {
            "text/plain": [
              "tensor([[ 1.3867,  2.8940,  2.5148, -4.2099, -0.1673],\n",
              "        [-7.3385,  2.6609,  1.0143, -2.0240,  1.7432]])"
            ]
          },
          "metadata": {},
          "execution_count": 50
        }
      ]
    }
  ]
}